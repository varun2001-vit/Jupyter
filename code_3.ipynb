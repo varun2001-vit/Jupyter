{
 "metadata": {
  "language_info": {
   "codemirror_mode": {
    "name": "ipython",
    "version": 3
   },
   "file_extension": ".py",
   "mimetype": "text/x-python",
   "name": "python",
   "nbconvert_exporter": "python",
   "pygments_lexer": "ipython3",
   "version": "3.8.8"
  },
  "orig_nbformat": 4,
  "kernelspec": {
   "name": "python3",
   "display_name": "Python 3.8.8 64-bit ('base': conda)"
  },
  "interpreter": {
   "hash": "82f3271a2574c030bb07586ed2b0d9fa405de9f9c25dd1f3f81137bf2d3069b6"
  }
 },
 "nbformat": 4,
 "nbformat_minor": 2,
 "cells": [
  {
   "cell_type": "code",
   "execution_count": 19,
   "metadata": {},
   "outputs": [],
   "source": [
    "import torch\n",
    "import torch.nn as nn\n",
    "import torch.nn.functional as F\n",
    "import torch.optim as optim"
   ]
  },
  {
   "cell_type": "code",
   "execution_count": 20,
   "metadata": {},
   "outputs": [
    {
     "output_type": "execute_result",
     "data": {
      "text/plain": [
       "<torch.autograd.grad_mode.set_grad_enabled at 0x1a27a026190>"
      ]
     },
     "metadata": {},
     "execution_count": 20
    }
   ],
   "source": [
    "import torchvision\n",
    "import torchvision.transforms as transforms\n",
    "torch.set_printoptions(linewidth=120)\n",
    "torch.set_grad_enabled(True)"
   ]
  },
  {
   "cell_type": "code",
   "execution_count": 21,
   "metadata": {},
   "outputs": [],
   "source": [
    "import numpy as np\n",
    "import matplotlib.pyplot as plt"
   ]
  },
  {
   "cell_type": "code",
   "execution_count": 22,
   "metadata": {},
   "outputs": [],
   "source": [
    "train_set=torchvision.datasets.FashionMNIST(\n",
    "    root='./data/FashionMNIST',train=True,download=True,transform=transforms.Compose([transforms.ToTensor()])\n",
    ")"
   ]
  },
  {
   "cell_type": "code",
   "execution_count": 23,
   "metadata": {},
   "outputs": [],
   "source": [
    "def get_num_correct(preds,labels):\n",
    "    return preds.argmax(dim=1).eq(labels).sum().item()"
   ]
  },
  {
   "cell_type": "code",
   "execution_count": 24,
   "metadata": {},
   "outputs": [],
   "source": [
    "class Network(nn.Module):\n",
    "    def __init__(self):\n",
    "        super().__init__()\n",
    "        #convulution layer\n",
    "        self.conv1=nn.Conv2d(in_channels=1,out_channels=6,kernel_size=5)\n",
    "        self.conv2=nn.Conv2d(in_channels=6,out_channels=12,kernel_size=5)\n",
    "        #linear layer\n",
    "        self.fc1=nn.Linear(in_features=12*4*4,out_features=120)\n",
    "        self.fc2=nn.Linear(in_features=120,out_features=60)\n",
    "        self.out=nn.Linear(in_features=60,out_features=10)\n",
    "\n",
    "\n",
    "    def forward(self,t):\n",
    "        #input layer\n",
    "        t=t\n",
    "        #conv layer\n",
    "        t=self.conv1(t)\n",
    "        t=F.relu(t)\n",
    "        t=F.max_pool2d(t,kernel_size=2,stride=2)\n",
    "        t=self.conv2(t)\n",
    "        t=F.relu(t)\n",
    "        t=F.max_pool2d(t,kernel_size=2,stride=2)\n",
    "        #4th hidden layer\n",
    "        t=t.reshape(-1,12*4*4)\n",
    "        t=self.fc1(t)\n",
    "        t=F.relu(t)\n",
    "        #5th hidden layer\n",
    "        t=self.fc2(t)\n",
    "        t=F.relu(t)\n",
    "        #6th layer\n",
    "        t=self.out(t)\n",
    "        return t\n"
   ]
  },
  {
   "cell_type": "code",
   "execution_count": 25,
   "metadata": {},
   "outputs": [],
   "source": [
    "sample=next(iter(train_set))\n",
    "image,label=sample"
   ]
  },
  {
   "cell_type": "code",
   "execution_count": 26,
   "metadata": {},
   "outputs": [
    {
     "output_type": "execute_result",
     "data": {
      "text/plain": [
       "<torch.autograd.grad_mode.set_grad_enabled at 0x1a27a026070>"
      ]
     },
     "metadata": {},
     "execution_count": 26
    }
   ],
   "source": [
    "torch.set_grad_enabled(True)"
   ]
  },
  {
   "cell_type": "code",
   "execution_count": 27,
   "metadata": {},
   "outputs": [],
   "source": [
    "net=Network()"
   ]
  },
  {
   "cell_type": "code",
   "execution_count": 33,
   "metadata": {},
   "outputs": [
    {
     "output_type": "stream",
     "name": "stdout",
     "text": [
      "epoch: 0 total_correct: 47284 loss: 338.91982889175415\n",
      "epoch: 1 total_correct: 51578 loss: 226.6000388264656\n",
      "epoch: 2 total_correct: 52247 loss: 210.41048617661\n",
      "epoch: 3 total_correct: 52681 loss: 198.47092899680138\n",
      "epoch: 4 total_correct: 52906 loss: 191.41466762125492\n",
      "epoch: 5 total_correct: 53064 loss: 188.6455678716302\n",
      "epoch: 6 total_correct: 53271 loss: 185.32426212728024\n",
      "epoch: 7 total_correct: 53298 loss: 181.26458413898945\n",
      "epoch: 8 total_correct: 53541 loss: 177.83653269708157\n",
      "epoch: 9 total_correct: 53610 loss: 174.43900357186794\n"
     ]
    }
   ],
   "source": [
    "#training loop\n",
    "net=Network()\n",
    "train_loader=torch.utils.data.DataLoader(train_set,batch_size=100,shuffle=True)\n",
    "optimizer=optim.Adam(net.parameters(),lr=0.01)\n",
    "images,labels=next(iter(train_loader))\n",
    "grid=torchvision.utils.make_grid(images)\n",
    "tb=SummaryWriter(\"runs/mnist\")\n",
    "tb.add_image('images',grid)\n",
    "tb.add_graph(net,images)\n",
    "for epoch in range(10):\n",
    "    total_loss=0\n",
    "    total_correct=0\n",
    "    for batch in train_loader:\n",
    "        images,labels=batch\n",
    "        preds=net(images)\n",
    "        loss=F.cross_entropy(preds,labels)#claculate loss\n",
    "        optimizer.zero_grad() #removing previous grad\n",
    "        loss.backward() #calculationg grads\n",
    "        optimizer.step() #updationg weight\n",
    "        total_loss=total_loss+loss.item()\n",
    "        total_correct=total_correct+get_num_correct(preds,labels)\n",
    "    tb.add_scalar('loss',total_loss,epoch)\n",
    "    tb.add_scalar('number correct',total_correct,epoch)\n",
    "    tb.add_scalar('Accuracy',total_correct/len(train_set),epoch)\n",
    "\n",
    "    tb.add_histogram('conv1.bias',net.conv1.bias,epoch)\n",
    "    tb.add_histogram('conv1.weight',net.conv1.weight,epoch)\n",
    "    tb.add_histogram('conv1.weight.grad',net.conv1.weight.grad,epoch)\n",
    "    print(\"epoch:\",epoch,\"total_correct:\",total_correct,\"loss:\",total_loss)\n",
    "tb.close()"
   ]
  },
  {
   "cell_type": "code",
   "execution_count": 32,
   "metadata": {},
   "outputs": [
    {
     "output_type": "stream",
     "name": "stdout",
     "text": [
      "conv1.weight torch.Size([6, 1, 5, 5])\nconv1.bias torch.Size([6])\nconv2.weight torch.Size([12, 6, 5, 5])\nconv2.bias torch.Size([12])\nfc1.weight torch.Size([120, 192])\nfc1.bias torch.Size([120])\nfc2.weight torch.Size([60, 120])\nfc2.bias torch.Size([60])\nout.weight torch.Size([10, 60])\nout.bias torch.Size([10])\n"
     ]
    }
   ],
   "source": [
    "for name,weight in net.named_parameters():\n",
    "    print(name,weight.shape)"
   ]
  },
  {
   "cell_type": "code",
   "execution_count": 37,
   "metadata": {},
   "outputs": [
    {
     "output_type": "execute_result",
     "data": {
      "text/plain": [
       "0.8802666666666666"
      ]
     },
     "metadata": {},
     "execution_count": 37
    }
   ],
   "source": [
    "total_correct/len(train_set)"
   ]
  },
  {
   "cell_type": "code",
   "execution_count": 80,
   "metadata": {},
   "outputs": [
    {
     "output_type": "execute_result",
     "data": {
      "text/plain": [
       "60000"
      ]
     },
     "metadata": {},
     "execution_count": 80
    }
   ],
   "source": [
    "len(train_set.targets)"
   ]
  },
  {
   "cell_type": "code",
   "execution_count": 90,
   "metadata": {},
   "outputs": [],
   "source": [
    "#confusion matrix creation\n",
    "def get_all_preds(model,loader):\n",
    "    all_preds=torch.tensor([]) #empty ternsor\n",
    "    for batch in loader:\n",
    "        images,labels=batch\n",
    "        preds=model(images)\n",
    "        all_preds=torch.cat((all_preds,preds),dim=0)\n",
    "    return all_preds\n",
    "\n"
   ]
  },
  {
   "cell_type": "code",
   "execution_count": 91,
   "metadata": {},
   "outputs": [],
   "source": [
    "with torch.no_grad():\n",
    "    prediction_loader=torch.utils.data.DataLoader(train_set,batch_size=10000)\n",
    "    train_preds=get_all_preds(net,prediction_loader)"
   ]
  },
  {
   "cell_type": "code",
   "execution_count": 92,
   "metadata": {},
   "outputs": [
    {
     "output_type": "execute_result",
     "data": {
      "text/plain": [
       "torch.Size([60000, 10])"
      ]
     },
     "metadata": {},
     "execution_count": 92
    }
   ],
   "source": [
    "train_preds.shape"
   ]
  },
  {
   "cell_type": "code",
   "execution_count": 93,
   "metadata": {},
   "outputs": [
    {
     "output_type": "stream",
     "name": "stdout",
     "text": [
      "False\n"
     ]
    }
   ],
   "source": [
    "print(train_preds.requires_grad)"
   ]
  },
  {
   "cell_type": "code",
   "execution_count": 95,
   "metadata": {},
   "outputs": [
    {
     "output_type": "stream",
     "name": "stdout",
     "text": [
      "total correct: 52687\naccuracy: 0.8781166666666667\n"
     ]
    }
   ],
   "source": [
    "preds_correct=get_num_correct(train_preds,train_set.targets)\n",
    "print(\"total correct:\",preds_correct)\n",
    "print(\"accuracy:\",preds_correct/len(train_set))\n"
   ]
  },
  {
   "cell_type": "code",
   "execution_count": 96,
   "metadata": {},
   "outputs": [
    {
     "output_type": "execute_result",
     "data": {
      "text/plain": [
       "tensor([9, 0, 0,  ..., 3, 0, 5])"
      ]
     },
     "metadata": {},
     "execution_count": 96
    }
   ],
   "source": [
    "train_set.targets"
   ]
  },
  {
   "cell_type": "code",
   "execution_count": 97,
   "metadata": {},
   "outputs": [
    {
     "output_type": "execute_result",
     "data": {
      "text/plain": [
       "tensor([9, 0, 0,  ..., 3, 0, 5])"
      ]
     },
     "metadata": {},
     "execution_count": 97
    }
   ],
   "source": [
    "train_preds.argmax(dim=1)"
   ]
  },
  {
   "cell_type": "code",
   "execution_count": 98,
   "metadata": {},
   "outputs": [],
   "source": [
    "#confusion matrix\n",
    "stacked=torch.stack(\n",
    "    (\n",
    "        train_set.targets,train_preds.argmax(dim=1)\n",
    "    ),dim=1\n",
    ")"
   ]
  },
  {
   "cell_type": "code",
   "execution_count": 99,
   "metadata": {},
   "outputs": [
    {
     "output_type": "execute_result",
     "data": {
      "text/plain": [
       "torch.Size([60000, 2])"
      ]
     },
     "metadata": {},
     "execution_count": 99
    }
   ],
   "source": [
    "stacked.shape"
   ]
  },
  {
   "cell_type": "code",
   "execution_count": 100,
   "metadata": {},
   "outputs": [
    {
     "output_type": "execute_result",
     "data": {
      "text/plain": [
       "tensor([[9, 9],\n",
       "        [0, 0],\n",
       "        [0, 0],\n",
       "        ...,\n",
       "        [3, 3],\n",
       "        [0, 0],\n",
       "        [5, 5]])"
      ]
     },
     "metadata": {},
     "execution_count": 100
    }
   ],
   "source": [
    "stacked"
   ]
  },
  {
   "cell_type": "code",
   "execution_count": 101,
   "metadata": {},
   "outputs": [
    {
     "output_type": "execute_result",
     "data": {
      "text/plain": [
       "[9, 9]"
      ]
     },
     "metadata": {},
     "execution_count": 101
    }
   ],
   "source": [
    "stacked[0].tolist()"
   ]
  },
  {
   "cell_type": "code",
   "execution_count": 102,
   "metadata": {},
   "outputs": [
    {
     "output_type": "execute_result",
     "data": {
      "text/plain": [
       "tensor([[0, 0, 0, 0, 0, 0, 0, 0, 0, 0],\n",
       "        [0, 0, 0, 0, 0, 0, 0, 0, 0, 0],\n",
       "        [0, 0, 0, 0, 0, 0, 0, 0, 0, 0],\n",
       "        [0, 0, 0, 0, 0, 0, 0, 0, 0, 0],\n",
       "        [0, 0, 0, 0, 0, 0, 0, 0, 0, 0],\n",
       "        [0, 0, 0, 0, 0, 0, 0, 0, 0, 0],\n",
       "        [0, 0, 0, 0, 0, 0, 0, 0, 0, 0],\n",
       "        [0, 0, 0, 0, 0, 0, 0, 0, 0, 0],\n",
       "        [0, 0, 0, 0, 0, 0, 0, 0, 0, 0],\n",
       "        [0, 0, 0, 0, 0, 0, 0, 0, 0, 0]], dtype=torch.int32)"
      ]
     },
     "metadata": {},
     "execution_count": 102
    }
   ],
   "source": [
    "confusion_matrix=torch.zeros(10,10,dtype=torch.int32)\n",
    "confusion_matrix"
   ]
  },
  {
   "cell_type": "code",
   "execution_count": 104,
   "metadata": {},
   "outputs": [],
   "source": [
    "for p in stacked:\n",
    "    tl,pl=p.tolist()\n",
    "    confusion_matrix[tl,pl]=confusion_matrix[tl,pl]+1"
   ]
  },
  {
   "cell_type": "code",
   "execution_count": 105,
   "metadata": {},
   "outputs": [
    {
     "output_type": "execute_result",
     "data": {
      "text/plain": [
       "tensor([[5696,    5,   72,   73,   14,    6,   74,    0,   56,    4],\n",
       "        [  17, 5841,    3,  110,    9,    3,    8,    0,    7,    2],\n",
       "        [ 120,    0, 4819,   48,  672,   13,  263,    0,   60,    5],\n",
       "        [ 270,   32,   26, 5384,  192,    1,   64,    0,   26,    5],\n",
       "        [  30,    4,  472,  198, 4928,    2,  295,    1,   68,    2],\n",
       "        [   0,    0,    0,    1,    0, 5807,    0,   72,   23,   97],\n",
       "        [1896,    8,  623,  100,  499,    4, 2762,    0,  102,    6],\n",
       "        [   0,    0,    0,    0,    0,   43,    0, 5735,   38,  184],\n",
       "        [  27,    1,   21,   11,   17,    2,   19,    1, 5888,   13],\n",
       "        [   0,    0,    0,    0,    0,   11,    0,  160,    2, 5827]], dtype=torch.int32)"
      ]
     },
     "metadata": {},
     "execution_count": 105
    }
   ],
   "source": [
    "confusion_matrix"
   ]
  },
  {
   "cell_type": "code",
   "execution_count": 106,
   "metadata": {},
   "outputs": [
    {
     "output_type": "execute_result",
     "data": {
      "text/plain": [
       "tensor([[-19.1264, -28.6650, -18.5898,  ...,   6.1554, -19.0720,  14.8729],\n",
       "        [ 16.2407, -13.4272,  -0.8307,  ..., -30.2021,  -3.9194, -31.1329],\n",
       "        [  4.9333,  -1.9516,  -0.6480,  ..., -13.1412,  -2.6298, -11.5398],\n",
       "        ...,\n",
       "        [  0.7022,   0.6432,  -4.0898,  ..., -13.7995,  -1.7056,  -9.2757],\n",
       "        [  6.7638,  -6.8365,   0.9664,  ..., -20.9311,  -3.7574, -19.4840],\n",
       "        [ -9.5916, -32.0981, -15.5527,  ...,   2.6363,  -5.5440,  -1.6642]])"
      ]
     },
     "metadata": {},
     "execution_count": 106
    }
   ],
   "source": [
    "train_preds"
   ]
  },
  {
   "cell_type": "code",
   "execution_count": 14,
   "metadata": {},
   "outputs": [],
   "source": [
    "from torch.utils.tensorboard import SummaryWriter"
   ]
  },
  {
   "cell_type": "code",
   "execution_count": 18,
   "metadata": {},
   "outputs": [],
   "source": [
    "#tensorboard --logdir logs use this in conda cmd to open tenserboard\n",
    "tb=SummaryWriter()\n",
    "images,labels=next(iter(train_loader))\n",
    "grid=torchvision.utils.make_grid(images)\n",
    "tb.add_image('images',grid)\n",
    "tb.add_graph(net,images)\n",
    "tb.close()"
   ]
  },
  {
   "cell_type": "code",
   "execution_count": null,
   "metadata": {},
   "outputs": [],
   "source": []
  }
 ]
}